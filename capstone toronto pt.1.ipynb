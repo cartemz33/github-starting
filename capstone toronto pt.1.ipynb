{
    "nbformat_minor": 1, 
    "cells": [
        {
            "source": "import pandas as pd\nurl = \"https://en.wikipedia.org/wiki/List_of_postal_codes_of_Canada:_M\"\ndf = pd.read_html(url)\ndf = df[0]\n#ignore cells without assigned\ndf.drop(df.loc[df['Borough']=='Not assigned'].index, inplace=True)\ndf.reset_index(drop=True)\ndf1 = df.groupby(\"Postcode\").agg(lambda x: ','.join(set(x)))\ndf1.loc[df1['Neighbourhood']==\"Not assigned\", 'Neighbourhood']=df1.loc[df1['Neighbourhood']==\"Not assigned\", 'Borough']\n\ndf1.shape", 
            "cell_type": "code", 
            "execution_count": 1, 
            "outputs": [
                {
                    "output_type": "execute_result", 
                    "metadata": {}, 
                    "data": {
                        "text/plain": "(103, 2)"
                    }, 
                    "execution_count": 1
                }
            ], 
            "metadata": {}
        }, 
        {
            "source": "", 
            "cell_type": "code", 
            "execution_count": null, 
            "outputs": [], 
            "metadata": {}
        }
    ], 
    "nbformat": 4, 
    "metadata": {
        "kernelspec": {
            "display_name": "Python 3.6", 
            "name": "python3", 
            "language": "python"
        }, 
        "language_info": {
            "mimetype": "text/x-python", 
            "nbconvert_exporter": "python", 
            "version": "3.6.8", 
            "name": "python", 
            "pygments_lexer": "ipython3", 
            "file_extension": ".py", 
            "codemirror_mode": {
                "version": 3, 
                "name": "ipython"
            }
        }
    }
}