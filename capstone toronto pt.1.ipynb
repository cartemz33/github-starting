{
    "nbformat_minor": 1, 
    "cells": [
        {
            "execution_count": 1, 
            "cell_type": "code", 
            "metadata": {}, 
            "outputs": [
                {
                    "execution_count": 1, 
                    "metadata": {}, 
                    "data": {
                        "text/plain": "(103, 2)"
                    }, 
                    "output_type": "execute_result"
                }
            ], 
            "source": "import pandas as pd\nurl = \"https://en.wikipedia.org/wiki/List_of_postal_codes_of_Canada:_M\"\ndf = pd.read_html(url)\ndf = df[0]\n#ignore cells without assigned\ndf.drop(df.loc[df['Borough']=='Not assigned'].index, inplace=True)\ndf.reset_index(drop=True)\ndf1 = df.groupby(\"Postcode\").agg(lambda x: ','.join(set(x)))\ndf1.loc[df1['Neighbourhood']==\"Not assigned\", 'Neighbourhood']=df1.loc[df1['Neighbourhood']==\"Not assigned\", 'Borough']\n\ndf1.shape"
        }, 
        {
            "execution_count": null, 
            "cell_type": "code", 
            "metadata": {}, 
            "outputs": [], 
            "source": ""
        }
    ], 
    "metadata": {
        "kernelspec": {
            "display_name": "Python 3.6", 
            "name": "python3", 
            "language": "python"
        }, 
        "language_info": {
            "mimetype": "text/x-python", 
            "nbconvert_exporter": "python", 
            "version": "3.6.8", 
            "name": "python", 
            "file_extension": ".py", 
            "pygments_lexer": "ipython3", 
            "codemirror_mode": {
                "version": 3, 
                "name": "ipython"
            }
        }
    }, 
    "nbformat": 4
}